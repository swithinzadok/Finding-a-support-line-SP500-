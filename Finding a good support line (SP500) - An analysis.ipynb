{
 "cells": [
  {
   "cell_type": "markdown",
   "metadata": {},
   "source": [
    "## Once a support line is breached, there is a significant surge in volatility\n",
    "    Comparing n-day returns after 50, 100 and 200 day moving averages are breached and checking if there is a significant increase in volatility"
   ]
  },
  {
   "cell_type": "code",
   "execution_count": 1,
   "metadata": {},
   "outputs": [],
   "source": [
    "import pandas as pd\n",
    "import numpy as np"
   ]
  },
  {
   "cell_type": "code",
   "execution_count": 2,
   "metadata": {},
   "outputs": [],
   "source": [
    "df_50 = pd.read_excel('Days_50dmaBreach.xlsx', parse_dates = ['DATE 50d MA is BREACHED'])\n",
    "\n",
    "df_100 = pd.read_excel('Days_100dmaBreach.xlsx', parse_dates = ['DATE 100d MA is BREACHED'])\n",
    "\n",
    "df_200 = pd.read_excel('Days_200dmaBreach.xlsx', parse_dates = ['Date'])"
   ]
  },
  {
   "cell_type": "code",
   "execution_count": 3,
   "metadata": {},
   "outputs": [],
   "source": [
    "##Get Days when n-day moving averages are breached"
   ]
  },
  {
   "cell_type": "code",
   "execution_count": 4,
   "metadata": {},
   "outputs": [],
   "source": [
    "breach50_days = list(df_50['DATE 50d MA is BREACHED'])\n",
    "\n",
    "breach100_days = list(df_100['DATE 100d MA is BREACHED'])\n",
    "\n",
    "breach200_days = list(df_200['Date'])"
   ]
  },
  {
   "cell_type": "code",
   "execution_count": 5,
   "metadata": {},
   "outputs": [],
   "source": [
    "#Create masks"
   ]
  },
  {
   "cell_type": "code",
   "execution_count": 6,
   "metadata": {},
   "outputs": [],
   "source": [
    "SP500ReturnsDF = pd.read_excel('SP500Returns.xlsx',parse_dates = ['DATE'] )"
   ]
  },
  {
   "cell_type": "code",
   "execution_count": 7,
   "metadata": {},
   "outputs": [],
   "source": [
    "mask_50 =[True if SP500ReturnsDF.loc[i]['DATE'] in breach50_days else False for i in range(len(SP500ReturnsDF))]\n",
    "\n",
    "mask_100 = [True if SP500ReturnsDF.loc[i]['DATE'] in breach100_days else False for i in range(len(SP500ReturnsDF))]\n",
    "\n",
    "mask_200 = [True if SP500ReturnsDF.loc[i]['DATE'] in breach200_days else False for i in range(len(SP500ReturnsDF))]"
   ]
  },
  {
   "cell_type": "code",
   "execution_count": 8,
   "metadata": {},
   "outputs": [],
   "source": [
    "#convenience function to get the nth day return after a breach\n",
    "def giveNdayReturns(SP500ReturnsDF, n , mask):\n",
    "    returns = []\n",
    "    for i in range(len(mask)):\n",
    "        if mask[i]:\n",
    "            returns.append((SP500ReturnsDF.loc[i+n]['Close Price']/SP500ReturnsDF.loc[i]['Close Price'])-1)\n",
    "    return returns"
   ]
  },
  {
   "cell_type": "code",
   "execution_count": 9,
   "metadata": {},
   "outputs": [],
   "source": [
    "#n Day Returns in Dictionaries:\n",
    "ret50_nday = {}\n",
    "ret100_nday = {}\n",
    "ret200_nday = {}\n",
    "\n",
    "for i in range(1,41):\n",
    "    ret50_nday['X+'+ str(i)] = giveNdayReturns(SP500ReturnsDF, i, mask_50)\n",
    "\n",
    "for i in range(1,41):\n",
    "    ret100_nday['X+'+ str(i)] = giveNdayReturns(SP500ReturnsDF, i, mask_100)\n",
    "\n",
    "for i in range(1,41):\n",
    "    ret200_nday['X+'+ str(i)] = giveNdayReturns(SP500ReturnsDF, i, mask_200)"
   ]
  },
  {
   "cell_type": "code",
   "execution_count": 10,
   "metadata": {},
   "outputs": [],
   "source": [
    "# pd.DataFrame(ret50_nday).to_excel('dma50NdayReturns.xlsx')\n",
    "# pd.DataFrame(ret100_nday).to_excel('dma100NdayReturns.xlsx')\n",
    "# pd.DataFrame(ret200_nday).to_excel('dma200NdayReturns.xlsx')"
   ]
  },
  {
   "cell_type": "code",
   "execution_count": 11,
   "metadata": {},
   "outputs": [],
   "source": [
    "# Using shift to calculate n-day returns of SP500 and storing them in a dictionary with key name 'X+n'\n",
    "# we will be comparing this with the returns after a breach in the 50/100/200 day moving average\n",
    "spNDayReturns = {}\n",
    "for i in range(1,41):\n",
    "    spNDayReturns['X+'+ str(i)] = (SP500ReturnsDF['Close Price']/ SP500ReturnsDF['Close Price'].shift(i))-1  "
   ]
  },
  {
   "cell_type": "code",
   "execution_count": 12,
   "metadata": {},
   "outputs": [],
   "source": [
    "#pd.DataFrame(spNDayReturns).to_excel('sp500retsNday.xlsx')"
   ]
  },
  {
   "cell_type": "code",
   "execution_count": 13,
   "metadata": {},
   "outputs": [],
   "source": [
    "spDF = pd.read_excel('sp500retsNday.xlsx')"
   ]
  },
  {
   "cell_type": "code",
   "execution_count": 14,
   "metadata": {},
   "outputs": [
    {
     "data": {
      "text/html": [
       "<div>\n",
       "<style scoped>\n",
       "    .dataframe tbody tr th:only-of-type {\n",
       "        vertical-align: middle;\n",
       "    }\n",
       "\n",
       "    .dataframe tbody tr th {\n",
       "        vertical-align: top;\n",
       "    }\n",
       "\n",
       "    .dataframe thead th {\n",
       "        text-align: right;\n",
       "    }\n",
       "</style>\n",
       "<table border=\"1\" class=\"dataframe\">\n",
       "  <thead>\n",
       "    <tr style=\"text-align: right;\">\n",
       "      <th></th>\n",
       "      <th>Unnamed: 0</th>\n",
       "      <th>X+1</th>\n",
       "      <th>X+2</th>\n",
       "      <th>X+3</th>\n",
       "      <th>X+4</th>\n",
       "      <th>X+5</th>\n",
       "      <th>X+6</th>\n",
       "      <th>X+7</th>\n",
       "      <th>X+8</th>\n",
       "      <th>X+9</th>\n",
       "      <th>...</th>\n",
       "      <th>X+31</th>\n",
       "      <th>X+32</th>\n",
       "      <th>X+33</th>\n",
       "      <th>X+34</th>\n",
       "      <th>X+35</th>\n",
       "      <th>X+36</th>\n",
       "      <th>X+37</th>\n",
       "      <th>X+38</th>\n",
       "      <th>X+39</th>\n",
       "      <th>X+40</th>\n",
       "    </tr>\n",
       "  </thead>\n",
       "  <tbody>\n",
       "    <tr>\n",
       "      <th>0</th>\n",
       "      <td>0</td>\n",
       "      <td>NaN</td>\n",
       "      <td>NaN</td>\n",
       "      <td>NaN</td>\n",
       "      <td>NaN</td>\n",
       "      <td>NaN</td>\n",
       "      <td>NaN</td>\n",
       "      <td>NaN</td>\n",
       "      <td>NaN</td>\n",
       "      <td>NaN</td>\n",
       "      <td>...</td>\n",
       "      <td>NaN</td>\n",
       "      <td>NaN</td>\n",
       "      <td>NaN</td>\n",
       "      <td>NaN</td>\n",
       "      <td>NaN</td>\n",
       "      <td>NaN</td>\n",
       "      <td>NaN</td>\n",
       "      <td>NaN</td>\n",
       "      <td>NaN</td>\n",
       "      <td>NaN</td>\n",
       "    </tr>\n",
       "    <tr>\n",
       "      <th>1</th>\n",
       "      <td>1</td>\n",
       "      <td>0.015421</td>\n",
       "      <td>NaN</td>\n",
       "      <td>NaN</td>\n",
       "      <td>NaN</td>\n",
       "      <td>NaN</td>\n",
       "      <td>NaN</td>\n",
       "      <td>NaN</td>\n",
       "      <td>NaN</td>\n",
       "      <td>NaN</td>\n",
       "      <td>...</td>\n",
       "      <td>NaN</td>\n",
       "      <td>NaN</td>\n",
       "      <td>NaN</td>\n",
       "      <td>NaN</td>\n",
       "      <td>NaN</td>\n",
       "      <td>NaN</td>\n",
       "      <td>NaN</td>\n",
       "      <td>NaN</td>\n",
       "      <td>NaN</td>\n",
       "      <td>NaN</td>\n",
       "    </tr>\n",
       "    <tr>\n",
       "      <th>2</th>\n",
       "      <td>2</td>\n",
       "      <td>0.008383</td>\n",
       "      <td>0.023932</td>\n",
       "      <td>NaN</td>\n",
       "      <td>NaN</td>\n",
       "      <td>NaN</td>\n",
       "      <td>NaN</td>\n",
       "      <td>NaN</td>\n",
       "      <td>NaN</td>\n",
       "      <td>NaN</td>\n",
       "      <td>...</td>\n",
       "      <td>NaN</td>\n",
       "      <td>NaN</td>\n",
       "      <td>NaN</td>\n",
       "      <td>NaN</td>\n",
       "      <td>NaN</td>\n",
       "      <td>NaN</td>\n",
       "      <td>NaN</td>\n",
       "      <td>NaN</td>\n",
       "      <td>NaN</td>\n",
       "      <td>NaN</td>\n",
       "    </tr>\n",
       "    <tr>\n",
       "      <th>3</th>\n",
       "      <td>3</td>\n",
       "      <td>0.019387</td>\n",
       "      <td>0.027933</td>\n",
       "      <td>0.043784</td>\n",
       "      <td>NaN</td>\n",
       "      <td>NaN</td>\n",
       "      <td>NaN</td>\n",
       "      <td>NaN</td>\n",
       "      <td>NaN</td>\n",
       "      <td>NaN</td>\n",
       "      <td>...</td>\n",
       "      <td>NaN</td>\n",
       "      <td>NaN</td>\n",
       "      <td>NaN</td>\n",
       "      <td>NaN</td>\n",
       "      <td>NaN</td>\n",
       "      <td>NaN</td>\n",
       "      <td>NaN</td>\n",
       "      <td>NaN</td>\n",
       "      <td>NaN</td>\n",
       "      <td>NaN</td>\n",
       "    </tr>\n",
       "    <tr>\n",
       "      <th>4</th>\n",
       "      <td>4</td>\n",
       "      <td>-0.004329</td>\n",
       "      <td>0.014975</td>\n",
       "      <td>0.023483</td>\n",
       "      <td>0.039265</td>\n",
       "      <td>NaN</td>\n",
       "      <td>NaN</td>\n",
       "      <td>NaN</td>\n",
       "      <td>NaN</td>\n",
       "      <td>NaN</td>\n",
       "      <td>...</td>\n",
       "      <td>NaN</td>\n",
       "      <td>NaN</td>\n",
       "      <td>NaN</td>\n",
       "      <td>NaN</td>\n",
       "      <td>NaN</td>\n",
       "      <td>NaN</td>\n",
       "      <td>NaN</td>\n",
       "      <td>NaN</td>\n",
       "      <td>NaN</td>\n",
       "      <td>NaN</td>\n",
       "    </tr>\n",
       "  </tbody>\n",
       "</table>\n",
       "<p>5 rows × 41 columns</p>\n",
       "</div>"
      ],
      "text/plain": [
       "   Unnamed: 0       X+1       X+2       X+3       X+4  X+5  X+6  X+7  X+8  \\\n",
       "0           0       NaN       NaN       NaN       NaN  NaN  NaN  NaN  NaN   \n",
       "1           1  0.015421       NaN       NaN       NaN  NaN  NaN  NaN  NaN   \n",
       "2           2  0.008383  0.023932       NaN       NaN  NaN  NaN  NaN  NaN   \n",
       "3           3  0.019387  0.027933  0.043784       NaN  NaN  NaN  NaN  NaN   \n",
       "4           4 -0.004329  0.014975  0.023483  0.039265  NaN  NaN  NaN  NaN   \n",
       "\n",
       "   X+9  ...  X+31  X+32  X+33  X+34  X+35  X+36  X+37  X+38  X+39  X+40  \n",
       "0  NaN  ...   NaN   NaN   NaN   NaN   NaN   NaN   NaN   NaN   NaN   NaN  \n",
       "1  NaN  ...   NaN   NaN   NaN   NaN   NaN   NaN   NaN   NaN   NaN   NaN  \n",
       "2  NaN  ...   NaN   NaN   NaN   NaN   NaN   NaN   NaN   NaN   NaN   NaN  \n",
       "3  NaN  ...   NaN   NaN   NaN   NaN   NaN   NaN   NaN   NaN   NaN   NaN  \n",
       "4  NaN  ...   NaN   NaN   NaN   NaN   NaN   NaN   NaN   NaN   NaN   NaN  \n",
       "\n",
       "[5 rows x 41 columns]"
      ]
     },
     "execution_count": 14,
     "metadata": {},
     "output_type": "execute_result"
    }
   ],
   "source": [
    "spDF.head()"
   ]
  },
  {
   "cell_type": "code",
   "execution_count": 15,
   "metadata": {},
   "outputs": [],
   "source": [
    "# removing nan values and storing it in a new dictionary\n",
    "SPDFinal = {}\n",
    "for i in range(1,41):\n",
    "    SPDFinal['X+'+str(i)]= [i for i in list(spDF['X+'+str(i)]) if str(i) != 'nan']"
   ]
  },
  {
   "cell_type": "code",
   "execution_count": 16,
   "metadata": {},
   "outputs": [],
   "source": [
    "#SPDFinal['X+2']"
   ]
  },
  {
   "cell_type": "markdown",
   "metadata": {},
   "source": [
    "## Levene's test for homogeneity of variance"
   ]
  },
  {
   "cell_type": "code",
   "execution_count": 17,
   "metadata": {},
   "outputs": [],
   "source": [
    "\n",
    "from scipy.stats import levene"
   ]
  },
  {
   "cell_type": "code",
   "execution_count": 18,
   "metadata": {},
   "outputs": [],
   "source": [
    "levene50 = []\n",
    "levene100 = []\n",
    "levene200 = []\n",
    "for i in range(1,41):\n",
    "    levene50.append(levene(ret50_nday['X+'+str(i)], SPDFinal['X+' +str(i)]))\n",
    "    levene100.append(levene(ret100_nday['X+'+str(i)], SPDFinal['X+' +str(i)]))\n",
    "    levene200.append(levene(ret200_nday['X+'+str(i)], SPDFinal['X+' +str(i)]))"
   ]
  },
  {
   "cell_type": "code",
   "execution_count": 19,
   "metadata": {},
   "outputs": [],
   "source": [
    "levene50pvals= [i[1] for i in levene50]\n",
    "levene100pvals= [i[1] for i in levene100]\n",
    "levene200pvals= [i[1] for i in levene200]"
   ]
  },
  {
   "cell_type": "code",
   "execution_count": 20,
   "metadata": {},
   "outputs": [],
   "source": [
    "pvalue_dict = {'Holding period in days': range(1,41), 'Levenes test 50dayMA pvalue' :levene50pvals, 'Levenes test 100dayMA pvalue' :levene100pvals, 'Levenes test 200dayMA pvalue' :levene200pvals }"
   ]
  },
  {
   "cell_type": "code",
   "execution_count": 21,
   "metadata": {},
   "outputs": [],
   "source": [
    "df_pvalues = pd.DataFrame(pvalue_dict, index = pvalue_dict['Holding period in days'])"
   ]
  },
  {
   "cell_type": "code",
   "execution_count": 22,
   "metadata": {},
   "outputs": [
    {
     "data": {
      "text/html": [
       "<div>\n",
       "<style scoped>\n",
       "    .dataframe tbody tr th:only-of-type {\n",
       "        vertical-align: middle;\n",
       "    }\n",
       "\n",
       "    .dataframe tbody tr th {\n",
       "        vertical-align: top;\n",
       "    }\n",
       "\n",
       "    .dataframe thead th {\n",
       "        text-align: right;\n",
       "    }\n",
       "</style>\n",
       "<table border=\"1\" class=\"dataframe\">\n",
       "  <thead>\n",
       "    <tr style=\"text-align: right;\">\n",
       "      <th></th>\n",
       "      <th>Holding period in days</th>\n",
       "      <th>Levenes test 50dayMA pvalue</th>\n",
       "      <th>Levenes test 100dayMA pvalue</th>\n",
       "      <th>Levenes test 200dayMA pvalue</th>\n",
       "    </tr>\n",
       "  </thead>\n",
       "  <tbody>\n",
       "    <tr>\n",
       "      <th>1</th>\n",
       "      <td>1</td>\n",
       "      <td>0.805608</td>\n",
       "      <td>0.223170</td>\n",
       "      <td>0.416097</td>\n",
       "    </tr>\n",
       "    <tr>\n",
       "      <th>2</th>\n",
       "      <td>2</td>\n",
       "      <td>0.485225</td>\n",
       "      <td>0.122608</td>\n",
       "      <td>0.004445</td>\n",
       "    </tr>\n",
       "    <tr>\n",
       "      <th>3</th>\n",
       "      <td>3</td>\n",
       "      <td>0.162964</td>\n",
       "      <td>0.039003</td>\n",
       "      <td>0.003921</td>\n",
       "    </tr>\n",
       "    <tr>\n",
       "      <th>4</th>\n",
       "      <td>4</td>\n",
       "      <td>0.589118</td>\n",
       "      <td>0.104311</td>\n",
       "      <td>0.001943</td>\n",
       "    </tr>\n",
       "    <tr>\n",
       "      <th>5</th>\n",
       "      <td>5</td>\n",
       "      <td>0.440720</td>\n",
       "      <td>0.026825</td>\n",
       "      <td>0.011141</td>\n",
       "    </tr>\n",
       "  </tbody>\n",
       "</table>\n",
       "</div>"
      ],
      "text/plain": [
       "   Holding period in days  Levenes test 50dayMA pvalue  \\\n",
       "1                       1                     0.805608   \n",
       "2                       2                     0.485225   \n",
       "3                       3                     0.162964   \n",
       "4                       4                     0.589118   \n",
       "5                       5                     0.440720   \n",
       "\n",
       "   Levenes test 100dayMA pvalue  Levenes test 200dayMA pvalue  \n",
       "1                      0.223170                      0.416097  \n",
       "2                      0.122608                      0.004445  \n",
       "3                      0.039003                      0.003921  \n",
       "4                      0.104311                      0.001943  \n",
       "5                      0.026825                      0.011141  "
      ]
     },
     "execution_count": 22,
     "metadata": {},
     "output_type": "execute_result"
    }
   ],
   "source": [
    "df_pvalues.head()"
   ]
  },
  {
   "cell_type": "code",
   "execution_count": 23,
   "metadata": {},
   "outputs": [],
   "source": [
    "#df_pvals = pd.DataFrame(levene50pvals, levene100pvals, levene200pvals)"
   ]
  },
  {
   "cell_type": "code",
   "execution_count": 24,
   "metadata": {},
   "outputs": [
    {
     "data": {
      "text/plain": [
       "0.16296367712440338"
      ]
     },
     "execution_count": 24,
     "metadata": {},
     "output_type": "execute_result"
    }
   ],
   "source": [
    "min(levene50pvals)"
   ]
  },
  {
   "cell_type": "code",
   "execution_count": 25,
   "metadata": {},
   "outputs": [
    {
     "data": {
      "text/plain": [
       "0.026824692560992926"
      ]
     },
     "execution_count": 25,
     "metadata": {},
     "output_type": "execute_result"
    }
   ],
   "source": [
    "min(levene100pvals)"
   ]
  },
  {
   "cell_type": "code",
   "execution_count": 26,
   "metadata": {},
   "outputs": [
    {
     "data": {
      "text/plain": [
       "0.0012121081375865794"
      ]
     },
     "execution_count": 26,
     "metadata": {},
     "output_type": "execute_result"
    }
   ],
   "source": [
    "min(levene200pvals)"
   ]
  },
  {
   "cell_type": "markdown",
   "metadata": {},
   "source": [
    "## Conclusion:  Based on levene's test we can conclude that there is a significant surge in volatility after the 200 day moving average is breached"
   ]
  }
 ],
 "metadata": {
  "kernelspec": {
   "display_name": "Python 3",
   "language": "python",
   "name": "python3"
  },
  "language_info": {
   "codemirror_mode": {
    "name": "ipython",
    "version": 3
   },
   "file_extension": ".py",
   "mimetype": "text/x-python",
   "name": "python",
   "nbconvert_exporter": "python",
   "pygments_lexer": "ipython3",
   "version": "3.7.3"
  }
 },
 "nbformat": 4,
 "nbformat_minor": 2
}
